{
 "cells": [
  {
   "cell_type": "markdown",
   "id": "0c814820",
   "metadata": {},
   "source": [
    "# About the notebook\n",
    "The purpose of this Jupyter Notebook is to use a pre-trained deep learning model to generate segmentation predictions for a given input image.  \n",
    "\n",
    "# 00 - Special Instructions for Google Colab Users\n",
    "The following lines of code should be executed only when running your script on Google Colab. This is crucial to leverage the additional features provided by Colab, most notably, the availability of a free GPU. **If, you're running the code locally, this line can be skipped (GO TO STEP 01 - Loading dependencies) as it pertains specifically to the Colab setup.**\n",
    "\n",
    "# Give access to google drive\n"
   ]
  },
  {
   "cell_type": "code",
   "execution_count": null,
   "id": "4b4ba27e",
   "metadata": {},
   "outputs": [],
   "source": [
    "from google.colab import drive\n",
    "drive.mount('/content/drive')"
   ]
  },
  {
   "cell_type": "markdown",
   "id": "220f1d4b",
   "metadata": {},
   "source": [
    "# Install Napari"
   ]
  },
  {
   "cell_type": "code",
   "execution_count": null,
   "id": "c1e46716",
   "metadata": {},
   "outputs": [],
   "source": [
    "!pip install napari"
   ]
  },
  {
   "cell_type": "markdown",
   "id": "9203abaa",
   "metadata": {},
   "source": [
    "# Copy code to current session"
   ]
  },
  {
   "cell_type": "code",
   "execution_count": null,
   "id": "f5c3543c",
   "metadata": {},
   "outputs": [],
   "source": [
    "!git clone https://github.com/paul-hernandez-herrera/unet_pytorch_2d\n",
    "import os\n",
    "workbookDir = \"/content/unet_pytorch_2d/\"\n",
    "os.chdir(workbookDir)"
   ]
  },
  {
   "cell_type": "markdown",
   "id": "2d9fa4ea",
   "metadata": {},
   "source": [
    "# 01 - Loading dependencies\n",
    "In this notebook, before running any code, there are several libraries and modules that need to be imported to ensure that the notebook runs smoothly. These libraries and modules contain pre-written code that performs specific tasks, such as reading and processing images, defining the UNET model, and training the model."
   ]
  },
  {
   "cell_type": "code",
   "execution_count": null,
   "id": "d18617ce",
   "metadata": {},
   "outputs": [],
   "source": [
    "import os\n",
    "if 'workbookDir' not in globals():\n",
    "    print('Updating working directory')\n",
    "    workbookDir = os.path.dirname(os.getcwd())\n",
    "    os.chdir(workbookDir)\n",
    "print(os.getcwd())\n",
    "import torch\n",
    "\n",
    "from core_code.predict import PredictSegmentationInteractive\n",
    "from core_code.util.show_image import show_images_side_by_side_interactive, display_all_images_in_separate_figures\n",
    "\n",
    "#allow reloading the functions updates\n",
    "\n",
    "%load_ext autoreload\n",
    "%autoreload 2"
   ]
  },
  {
   "cell_type": "markdown",
   "id": "91655c7c",
   "metadata": {},
   "source": [
    "# 02 - Setting required parameters\n",
    "In this section, users can specify the necessary parameters to predict the segmentation mask for a given input image. The following parameters are required:\n",
    "\n",
    "**Model path**: The path to the trained model that will be used for segmentation prediction.\n",
    "\n",
    "**Input path**: The path to the folder containing the input images, or the path to a single 'tif' image.\n",
    "\n",
    "**Output path (Optional)**: The path where the output of the network will be saved. If you do not provide an output path, the algorithm will automatically create a folder named 'output' in the same folder as the input images, and save the predictions there.\n",
    "\n",
    "**Device**: The device that will be used to perform the operations."
   ]
  },
  {
   "cell_type": "code",
   "execution_count": null,
   "id": "0d63c199",
   "metadata": {},
   "outputs": [],
   "source": [
    "predict_interactive = PredictSegmentationInteractive()"
   ]
  },
  {
   "cell_type": "markdown",
   "id": "c1bf4f4d",
   "metadata": {},
   "source": [
    "# 03 - Do the prediction\n",
    "This line of code allows you to predict the images using the trained deep learning model."
   ]
  },
  {
   "cell_type": "code",
   "execution_count": null,
   "id": "316bbf4d",
   "metadata": {},
   "outputs": [],
   "source": [
    "file_paths = predict_interactive.run()"
   ]
  },
  {
   "cell_type": "markdown",
   "id": "a65367e7",
   "metadata": {},
   "source": [
    "# 04 - Visualization\n",
    "This sections provides an opportunity for the user to inspect and visually analyze the results of the segmentation prediction. This step is important to ensure that the predicted segmentations are appropriate and accurate."
   ]
  },
  {
   "cell_type": "code",
   "execution_count": null,
   "id": "aa66d979",
   "metadata": {},
   "outputs": [],
   "source": [
    "#running_locally = True\n",
    "#show_images_side_by_side_interactive(file_paths[\"inputs\"], file_paths[\"outputs\"], flag_napari = running_locally)\n",
    "display_all_images_in_separate_figures(file_paths[\"inputs\"], file_paths[\"outputs\"])"
   ]
  },
  {
   "cell_type": "code",
   "execution_count": null,
   "id": "195dff0f-60fa-4d4e-9258-b687774e9ba9",
   "metadata": {},
   "outputs": [],
   "source": []
  }
 ],
 "metadata": {
  "kernelspec": {
   "display_name": "Python 3 (ipykernel)",
   "language": "python",
   "name": "python3"
  },
  "language_info": {
   "codemirror_mode": {
    "name": "ipython",
    "version": 3
   },
   "file_extension": ".py",
   "mimetype": "text/x-python",
   "name": "python",
   "nbconvert_exporter": "python",
   "pygments_lexer": "ipython3",
   "version": "3.12.3"
  }
 },
 "nbformat": 4,
 "nbformat_minor": 5
}
